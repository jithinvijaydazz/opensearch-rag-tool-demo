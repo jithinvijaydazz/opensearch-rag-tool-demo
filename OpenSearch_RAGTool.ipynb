{
  "cells": [
    {
      "cell_type": "code",
      "execution_count": null,
      "id": "1178c1fd-2fd2-42cc-8c07-75c462e01d1e",
      "metadata": {
        "id": "1178c1fd-2fd2-42cc-8c07-75c462e01d1e"
      },
      "outputs": [],
      "source": [
        "!pip install requests_aws4auth"
      ]
    },
    {
      "cell_type": "markdown",
      "source": [
        "**Import required libraries**"
      ],
      "metadata": {
        "id": "EHxxyJ6BaBgd"
      },
      "id": "EHxxyJ6BaBgd"
    },
    {
      "cell_type": "code",
      "execution_count": null,
      "id": "5af61b9b-427b-4ed0-933b-0f93113a9b23",
      "metadata": {
        "tags": [],
        "id": "5af61b9b-427b-4ed0-933b-0f93113a9b23"
      },
      "outputs": [],
      "source": [
        "import requests\n",
        "import boto3\n",
        "from requests_aws4auth import AWS4Auth\n",
        "import time\n",
        "import os"
      ]
    },
    {
      "cell_type": "code",
      "source": [
        "region = 'us-east-1'\n",
        "service = 'es'\n",
        "credentials = boto3.Session().get_credentials()\n",
        "awsauth = AWS4Auth(credentials.access_key, credentials.secret_key, region, service, session_token=credentials.token)\n",
        "domain = os.environ['opensearch_domain_endpoint']"
      ],
      "metadata": {
        "id": "VNS-f3A1aNle"
      },
      "id": "VNS-f3A1aNle",
      "execution_count": null,
      "outputs": []
    },
    {
      "cell_type": "markdown",
      "source": [
        "**Required settings for RAG Tool**"
      ],
      "metadata": {
        "id": "eJ1UxFBrbSFm"
      },
      "id": "eJ1UxFBrbSFm"
    },
    {
      "cell_type": "code",
      "execution_count": null,
      "id": "e028f184-5266-4c1c-ba0b-26db3d62f55d",
      "metadata": {
        "tags": [],
        "id": "e028f184-5266-4c1c-ba0b-26db3d62f55d",
        "outputId": "6ab7eb9b-b07b-4cc1-f26d-212fd418bcfc"
      },
      "outputs": [
        {
          "name": "stdout",
          "output_type": "stream",
          "text": [
            "200\n",
            "{\"acknowledged\":true,\"persistent\":{\"plugins\":{\"ml_commons\":{\"memory_feature_enabled\":\"true\",\"only_run_on_ml_node\":\"false\"}}},\"transient\":{}}\n"
          ]
        }
      ],
      "source": [
        "# PUT _cluster/settings\n",
        "url = f\"{domain}/_cluster/settings\"\n",
        "payload = {\n",
        "    \"persistent\": {\n",
        "        \"plugins.ml_commons.only_run_on_ml_node\": \"false\",\n",
        "        \"plugins.ml_commons.memory_feature_enabled\": \"true\"\n",
        "    }\n",
        "}\n",
        "response = requests.put(url, json=payload,auth=awsauth)\n",
        "print(response.status_code)\n",
        "print(response.text)"
      ]
    },
    {
      "cell_type": "markdown",
      "source": [
        "**Deploy embedding model in Opensearch**"
      ],
      "metadata": {
        "id": "0hktlGM1bnVN"
      },
      "id": "0hktlGM1bnVN"
    },
    {
      "cell_type": "code",
      "execution_count": null,
      "id": "3c3033f1-114d-4c72-bbab-812ba9197890",
      "metadata": {
        "tags": [],
        "id": "3c3033f1-114d-4c72-bbab-812ba9197890",
        "outputId": "0e57214d-4322-4133-d396-c37d50bcf477"
      },
      "outputs": [
        {
          "name": "stdout",
          "output_type": "stream",
          "text": [
            "200\n",
            "{\"task_id\":\"OvaliZEBTLWKRj7Yyqzf\",\"status\":\"CREATED\"}\n"
          ]
        }
      ],
      "source": [
        "# POST /_plugins/_ml/models/_register?deploy=true\n",
        "url = f\"{domain}/_plugins/_ml/models/_register?deploy=true\"\n",
        "payload = {\n",
        "    \"name\": \"huggingface/sentence-transformers/all-MiniLM-L12-v2\",\n",
        "    \"version\": \"1.0.1\",\n",
        "    \"model_format\": \"TORCH_SCRIPT\"\n",
        "}\n",
        "response = requests.post(url, json=payload,auth=awsauth)\n",
        "print(response.status_code)\n",
        "print(response.text)\n",
        "if response.status_code == 200:\n",
        "    task_id = response.json()['task_id']"
      ]
    },
    {
      "cell_type": "markdown",
      "source": [
        "**Check the status of deployment**"
      ],
      "metadata": {
        "id": "lOuMv31qcVpX"
      },
      "id": "lOuMv31qcVpX"
    },
    {
      "cell_type": "code",
      "execution_count": null,
      "id": "703cc9ef-2d6d-449c-9dd6-10451df50fda",
      "metadata": {
        "tags": [],
        "id": "703cc9ef-2d6d-449c-9dd6-10451df50fda",
        "outputId": "545ef9e7-cf2e-43f1-8718-81c3831688e1"
      },
      "outputs": [
        {
          "name": "stdout",
          "output_type": "stream",
          "text": [
            "200\n",
            "{\"task_type\":\"REGISTER_MODEL\",\"function_name\":\"TEXT_EMBEDDING\",\"state\":\"CREATED\",\"worker_node\":[\"xdYV0RL3TzOYEGKpb6EZdg\"],\"create_time\":1724591229550,\"last_update_time\":1724591229550,\"is_async\":true}\n",
            "200\n",
            "{\"task_type\":\"REGISTER_MODEL\",\"function_name\":\"TEXT_EMBEDDING\",\"state\":\"CREATED\",\"worker_node\":[\"xdYV0RL3TzOYEGKpb6EZdg\"],\"create_time\":1724591229550,\"last_update_time\":1724591229550,\"is_async\":true}\n",
            "200\n",
            "{\"task_type\":\"REGISTER_MODEL\",\"function_name\":\"TEXT_EMBEDDING\",\"state\":\"CREATED\",\"worker_node\":[\"xdYV0RL3TzOYEGKpb6EZdg\"],\"create_time\":1724591229550,\"last_update_time\":1724591233357,\"is_async\":true}\n",
            "200\n",
            "{\"task_type\":\"REGISTER_MODEL\",\"function_name\":\"TEXT_EMBEDDING\",\"state\":\"CREATED\",\"worker_node\":[\"xdYV0RL3TzOYEGKpb6EZdg\"],\"create_time\":1724591229550,\"last_update_time\":1724591233357,\"is_async\":true}\n",
            "200\n",
            "{\"task_type\":\"REGISTER_MODEL\",\"function_name\":\"TEXT_EMBEDDING\",\"state\":\"CREATED\",\"worker_node\":[\"xdYV0RL3TzOYEGKpb6EZdg\"],\"create_time\":1724591229550,\"last_update_time\":1724591233357,\"is_async\":true}\n",
            "200\n",
            "{\"task_type\":\"REGISTER_MODEL\",\"function_name\":\"TEXT_EMBEDDING\",\"state\":\"CREATED\",\"worker_node\":[\"xdYV0RL3TzOYEGKpb6EZdg\"],\"create_time\":1724591229550,\"last_update_time\":1724591233357,\"is_async\":true}\n",
            "200\n",
            "{\"task_type\":\"REGISTER_MODEL\",\"function_name\":\"TEXT_EMBEDDING\",\"state\":\"CREATED\",\"worker_node\":[\"xdYV0RL3TzOYEGKpb6EZdg\"],\"create_time\":1724591229550,\"last_update_time\":1724591233357,\"is_async\":true}\n",
            "200\n",
            "{\"task_type\":\"REGISTER_MODEL\",\"function_name\":\"TEXT_EMBEDDING\",\"state\":\"CREATED\",\"worker_node\":[\"xdYV0RL3TzOYEGKpb6EZdg\"],\"create_time\":1724591229550,\"last_update_time\":1724591233357,\"is_async\":true}\n",
            "200\n",
            "{\"task_type\":\"REGISTER_MODEL\",\"function_name\":\"TEXT_EMBEDDING\",\"state\":\"CREATED\",\"worker_node\":[\"xdYV0RL3TzOYEGKpb6EZdg\"],\"create_time\":1724591229550,\"last_update_time\":1724591233357,\"is_async\":true}\n",
            "200\n",
            "{\"task_type\":\"REGISTER_MODEL\",\"function_name\":\"TEXT_EMBEDDING\",\"state\":\"CREATED\",\"worker_node\":[\"xdYV0RL3TzOYEGKpb6EZdg\"],\"create_time\":1724591229550,\"last_update_time\":1724591233357,\"is_async\":true}\n",
            "200\n",
            "{\"task_type\":\"REGISTER_MODEL\",\"function_name\":\"TEXT_EMBEDDING\",\"state\":\"CREATED\",\"worker_node\":[\"xdYV0RL3TzOYEGKpb6EZdg\"],\"create_time\":1724591229550,\"last_update_time\":1724591233357,\"is_async\":true}\n",
            "200\n",
            "{\"model_id\":\"rTOliZEBQrK436td2cmL\",\"task_type\":\"REGISTER_MODEL\",\"function_name\":\"TEXT_EMBEDDING\",\"state\":\"COMPLETED\",\"worker_node\":[\"xdYV0RL3TzOYEGKpb6EZdg\"],\"create_time\":1724591229550,\"last_update_time\":1724591252404,\"is_async\":true}\n"
          ]
        }
      ],
      "source": [
        "# GET /_plugins/_ml/tasks/888mhZEBzNdrTs7be20V\n",
        "url = f\"{domain}/_plugins/_ml/tasks/{task_id}\"\n",
        "while True:\n",
        "    response = requests.get(url,auth=awsauth)\n",
        "    print(response.status_code)\n",
        "    print(response.text)\n",
        "    if response.status_code == 200 and response.json()['state'] == 'COMPLETED':\n",
        "        embedding_model_id = response.json()['model_id']\n",
        "        break\n",
        "    time.sleep(2)\n",
        ""
      ]
    },
    {
      "cell_type": "markdown",
      "source": [
        "**Create text embedding pipeline**"
      ],
      "metadata": {
        "id": "0LeJBA8Ech9T"
      },
      "id": "0LeJBA8Ech9T"
    },
    {
      "cell_type": "code",
      "execution_count": null,
      "id": "5e69c7bc-5e1e-4df6-ab1f-d952e4f9db93",
      "metadata": {
        "tags": [],
        "id": "5e69c7bc-5e1e-4df6-ab1f-d952e4f9db93",
        "outputId": "85668846-6bfe-4ae8-cfc4-fc997276dc42"
      },
      "outputs": [
        {
          "name": "stdout",
          "output_type": "stream",
          "text": [
            "200\n",
            "{\"acknowledged\":true}\n"
          ]
        }
      ],
      "source": [
        "# PUT /_ingest/pipeline/test-pipeline-local-model\n",
        "ingestion_pipeline = \"test-pipeline-local-model\"\n",
        "url = f\"{domain}/_ingest/pipeline/{ingestion_pipeline}\"\n",
        "payload = {\n",
        "    \"description\": \"text embedding pipeline\",\n",
        "    \"processors\": [\n",
        "        {\n",
        "            \"text_embedding\": {\n",
        "                \"model_id\": embedding_model_id,\n",
        "                \"field_map\": {\n",
        "                    \"text\": \"embedding\"\n",
        "                }\n",
        "            }\n",
        "        }\n",
        "    ]\n",
        "}\n",
        "response = requests.put(url, json=payload,auth=awsauth)\n",
        "print(response.status_code)\n",
        "print(response.text)"
      ]
    },
    {
      "cell_type": "markdown",
      "source": [
        "**Create index**"
      ],
      "metadata": {
        "id": "sGkXBUtFcsaN"
      },
      "id": "sGkXBUtFcsaN"
    },
    {
      "cell_type": "code",
      "execution_count": null,
      "id": "4b74d144-a6db-4ac2-83ff-459b2a7662b2",
      "metadata": {
        "tags": [],
        "id": "4b74d144-a6db-4ac2-83ff-459b2a7662b2",
        "outputId": "a61d6816-371a-4347-c103-e8fa42d07aa7"
      },
      "outputs": [
        {
          "name": "stdout",
          "output_type": "stream",
          "text": [
            "200\n",
            "{\"acknowledged\":true,\"shards_acknowledged\":true,\"index\":\"my_test_index\"}\n"
          ]
        }
      ],
      "source": [
        "# PUT my_test_data\n",
        "index = \"my_test_index\"\n",
        "url = f\"{domain}/{index}\"\n",
        "payload = {\n",
        "    \"mappings\": {\n",
        "        \"properties\": {\n",
        "            \"text\": {\n",
        "                \"type\": \"text\"\n",
        "            },\n",
        "            \"embedding\": {\n",
        "                \"type\": \"knn_vector\",\n",
        "                \"dimension\": 384\n",
        "            }\n",
        "        }\n",
        "    },\n",
        "    \"settings\": {\n",
        "        \"index\": {\n",
        "            \"knn.space_type\": \"cosinesimil\",\n",
        "            \"default_pipeline\": ingestion_pipeline,\n",
        "            \"knn\": \"true\"\n",
        "        }\n",
        "    }\n",
        "}\n",
        "response = requests.put(url, json=payload,auth=awsauth)\n",
        "print(response.status_code)\n",
        "print(response.text)"
      ]
    },
    {
      "cell_type": "code",
      "execution_count": null,
      "id": "f1cdaeb1-3a25-4145-8055-89bca0c6e599",
      "metadata": {
        "tags": [],
        "id": "f1cdaeb1-3a25-4145-8055-89bca0c6e599",
        "outputId": "efe8a6b5-73fc-428b-c70c-1afce76fa24f"
      },
      "outputs": [
        {
          "name": "stdout",
          "output_type": "stream",
          "text": [
            "Indexed document 1: (201, '{\"_index\":\"my_test_index\",\"_id\":\"1\",\"_version\":1,\"result\":\"created\",\"_shards\":{\"total\":2,\"successful\":2,\"failed\":0},\"_seq_no\":0,\"_primary_term\":1}')\n",
            "Indexed document 2: (201, '{\"_index\":\"my_test_index\",\"_id\":\"2\",\"_version\":1,\"result\":\"created\",\"_shards\":{\"total\":2,\"successful\":2,\"failed\":0},\"_seq_no\":0,\"_primary_term\":1}')\n",
            "Indexed document 3: (201, '{\"_index\":\"my_test_index\",\"_id\":\"3\",\"_version\":1,\"result\":\"created\",\"_shards\":{\"total\":2,\"successful\":2,\"failed\":0},\"_seq_no\":0,\"_primary_term\":1}')\n",
            "Indexed document 4: (201, '{\"_index\":\"my_test_index\",\"_id\":\"4\",\"_version\":1,\"result\":\"created\",\"_shards\":{\"total\":2,\"successful\":2,\"failed\":0},\"_seq_no\":0,\"_primary_term\":1}')\n",
            "Indexed document 5: (201, '{\"_index\":\"my_test_index\",\"_id\":\"5\",\"_version\":1,\"result\":\"created\",\"_shards\":{\"total\":2,\"successful\":2,\"failed\":0},\"_seq_no\":1,\"_primary_term\":1}')\n",
            "Indexed document 6: (201, '{\"_index\":\"my_test_index\",\"_id\":\"6\",\"_version\":1,\"result\":\"created\",\"_shards\":{\"total\":2,\"successful\":2,\"failed\":0},\"_seq_no\":1,\"_primary_term\":1}')\n"
          ]
        }
      ],
      "source": [
        "# List of documents to be indexed\n",
        "documents = [\n",
        "    {\n",
        "        \"_id\": \"1\",\n",
        "        \"text\": \"Chart and table of population level and growth rate for the Ogden-Layton metro area from 1950 to 2023. United Nations population projections are also included through the year 2035.\\nThe current metro area population of Ogden-Layton in 2023 is 750,000, a 1.63% increase from 2022.\\nThe metro area population of Ogden-Layton in 2022 was 738,000, a 1.79% increase from 2021.\\nThe metro area population of Ogden-Layton in 2021 was 725,000, a 1.97% increase from 2020.\\nThe metro area population of Ogden-Layton in 2020 was 711,000, a 2.16% increase from 2019.\"\n",
        "    },\n",
        "    {\n",
        "        \"_id\": \"2\",\n",
        "        \"text\": \"Chart and table of population level and growth rate for the New York City metro area from 1950 to 2023. United Nations population projections are also included through the year 2035.\\nThe current metro area population of New York City in 2023 is 18,937,000, a 0.37% increase from 2022.\\nThe metro area population of New York City in 2022 was 18,867,000, a 0.23% increase from 2021.\\nThe metro area population of New York City in 2021 was 18,823,000, a 0.1% increase from 2020.\\nThe metro area population of New York City in 2020 was 18,804,000, a 0.01% decline from 2019.\"\n",
        "    },\n",
        "    {\n",
        "        \"_id\": \"3\",\n",
        "        \"text\": \"Chart and table of population level and growth rate for the Chicago metro area from 1950 to 2023. United Nations population projections are also included through the year 2035.\\nThe current metro area population of Chicago in 2023 is 8,937,000, a 0.4% increase from 2022.\\nThe metro area population of Chicago in 2022 was 8,901,000, a 0.27% increase from 2021.\\nThe metro area population of Chicago in 2021 was 8,877,000, a 0.14% increase from 2020.\\nThe metro area population of Chicago in 2020 was 8,865,000, a 0.03% increase from 2019.\"\n",
        "    },\n",
        "    {\n",
        "        \"_id\": \"4\",\n",
        "        \"text\": \"Chart and table of population level and growth rate for the Miami metro area from 1950 to 2023. United Nations population projections are also included through the year 2035.\\nThe current metro area population of Miami in 2023 is 6,265,000, a 0.8% increase from 2022.\\nThe metro area population of Miami in 2022 was 6,215,000, a 0.78% increase from 2021.\\nThe metro area population of Miami in 2021 was 6,167,000, a 0.74% increase from 2020.\\nThe metro area population of Miami in 2020 was 6,122,000, a 0.71% increase from 2019.\"\n",
        "    },\n",
        "    {\n",
        "        \"_id\": \"5\",\n",
        "        \"text\": \"Chart and table of population level and growth rate for the Austin metro area from 1950 to 2023. United Nations population projections are also included through the year 2035.\\nThe current metro area population of Austin in 2023 is 2,228,000, a 2.39% increase from 2022.\\nThe metro area population of Austin in 2022 was 2,176,000, a 2.79% increase from 2021.\\nThe metro area population of Austin in 2021 was 2,117,000, a 3.12% increase from 2020.\\nThe metro area population of Austin in 2020 was 2,053,000, a 3.43% increase from 2019.\"\n",
        "    },\n",
        "    {\n",
        "        \"_id\": \"6\",\n",
        "        \"text\": \"Chart and table of population level and growth rate for the Seattle metro area from 1950 to 2023. United Nations population projections are also included through the year 2035.\\nThe current metro area population of Seattle in 2023 is 3,519,000, a 0.86% increase from 2022.\\nThe metro area population of Seattle in 2022 was 3,489,000, a 0.81% increase from 2021.\\nThe metro area population of Seattle in 2021 was 3,461,000, a 0.82% increase from 2020.\\nThe metro area population of Seattle in 2020 was 3,433,000, a 0.79% increase from 2019.\"\n",
        "    }\n",
        "]\n",
        "\n",
        "# Function to index a document\n",
        "def index_document(index, document_id, document):\n",
        "    url = f\"{domain}/{index}/_doc/{document_id}\"\n",
        "    response = requests.put(url, json=document,auth=awsauth)\n",
        "    return response.status_code, response.text\n",
        "\n",
        "# Index each document individually\n",
        "for doc in documents:\n",
        "    response = index_document(index, doc[\"_id\"], {\"text\": doc[\"text\"]})\n",
        "    print(f\"Indexed document {doc['_id']}: {response}\")"
      ]
    },
    {
      "cell_type": "markdown",
      "source": [
        "**Create an ML connector to Bedrock foundation model**"
      ],
      "metadata": {
        "id": "jwFWHq8UdLaf"
      },
      "id": "jwFWHq8UdLaf"
    },
    {
      "cell_type": "code",
      "execution_count": null,
      "id": "c982c4e4-bdd8-4d15-af4f-9eeb8c22efaa",
      "metadata": {
        "tags": [],
        "id": "c982c4e4-bdd8-4d15-af4f-9eeb8c22efaa",
        "outputId": "461194a9-60ca-4c71-ba96-c86ff7f032eb"
      },
      "outputs": [
        {
          "name": "stdout",
          "output_type": "stream",
          "text": [
            "200\n",
            "{\"connector_id\":\"-H66iZEBLuUqtvazVcpd\"}\n"
          ]
        }
      ],
      "source": [
        "url = f'{domain}/_plugins/_ml/connectors/_create'\n",
        "\n",
        "\n",
        "payload = {\n",
        "  \"name\": \"BedRock test claude Connector\",\n",
        "  \"description\": \"The connector to BedRock service for claude model\",\n",
        "  \"version\": 1,\n",
        "  \"protocol\": \"aws_sigv4\",\n",
        "  \"parameters\": {\n",
        "      \"region\": \"us-east-1\",\n",
        "      \"service_name\": \"bedrock\",\n",
        "      \"anthropic_version\": \"bedrock-2023-05-31\",\n",
        "      \"endpoint\": \"bedrock.us-east-1.amazonaws.com\",\n",
        "      \"auth\": \"Sig_V4\",\n",
        "      \"content_type\": \"application/json\",\n",
        "      \"max_tokens_to_sample\": 8000,\n",
        "      \"temperature\": 0.0001,\n",
        "      \"response_filter\": \"$.completion\"\n",
        "  },\n",
        "  \"credential\": {\n",
        "      \"roleArn\": os.environ['role_arn']\n",
        "  },\n",
        "  \"actions\": [\n",
        "    {\n",
        "      \"action_type\": \"predict\",\n",
        "      \"method\": \"POST\",\n",
        "      \"url\": \"https://bedrock-runtime.us-east-1.amazonaws.com/model/anthropic.claude-v2/invoke\",\n",
        "      \"headers\": {\n",
        "        \"content-type\": \"application/json\",\n",
        "        \"x-amz-content-sha256\": \"required\"\n",
        "      },\n",
        "      \"request_body\": \"{\\\"prompt\\\":\\\"${parameters.prompt}\\\", \\\"max_tokens_to_sample\\\":${parameters.max_tokens_to_sample}, \\\"temperature\\\":${parameters.temperature},  \\\"anthropic_version\\\":\\\"${parameters.anthropic_version}\\\" }\"\n",
        "    }\n",
        "  ]\n",
        "}\n",
        "\n",
        "headers = {\"Content-Type\": \"application/json\"}\n",
        "\n",
        "response = requests.post(url, auth=awsauth, json=payload, headers=headers)\n",
        "print(response.status_code)\n",
        "print(response.text)\n",
        "if response.status_code == 200:\n",
        "    connector_id = response.json()['connector_id']"
      ]
    },
    {
      "cell_type": "markdown",
      "source": [
        "**Create model group**"
      ],
      "metadata": {
        "id": "r0tzuH61dhC2"
      },
      "id": "r0tzuH61dhC2"
    },
    {
      "cell_type": "code",
      "execution_count": null,
      "id": "89820f67-dafb-48da-9b57-e1c357e6c952",
      "metadata": {
        "tags": [],
        "id": "89820f67-dafb-48da-9b57-e1c357e6c952",
        "outputId": "a8853c9e-94f2-4444-8279-ee1df6081966"
      },
      "outputs": [
        {
          "name": "stdout",
          "output_type": "stream",
          "text": [
            "200\n",
            "{\"model_group_id\":\"rzO9iZEBQrK436tdDcnZ\",\"status\":\"CREATED\"}\n"
          ]
        }
      ],
      "source": [
        "# Register a model group\n",
        "model_group_name = \"bedrock_model_group\"\n",
        "url = f\"{domain}/_plugins/_ml/model_groups/_register\"\n",
        "payload = {\n",
        "    \"name\": model_group_name,\n",
        "    \"description\": \"This is a public model group\"\n",
        "}\n",
        "response = requests.post(url, json=payload,auth=awsauth)\n",
        "print(response.status_code)\n",
        "print(response.text)\n",
        "if response.status_code == 200:\n",
        "    generation_model_group_id = response.json()['model_group_id']"
      ]
    },
    {
      "cell_type": "markdown",
      "source": [
        "**Deploy Bedrock model**"
      ],
      "metadata": {
        "id": "I0uW-NrPdn7q"
      },
      "id": "I0uW-NrPdn7q"
    },
    {
      "cell_type": "code",
      "execution_count": null,
      "id": "0f8f6b46-fc96-4ae7-9a21-5d4d2426b633",
      "metadata": {
        "tags": [],
        "id": "0f8f6b46-fc96-4ae7-9a21-5d4d2426b633",
        "outputId": "9e6a1307-ad9f-4014-ff13-90a6748427df"
      },
      "outputs": [
        {
          "name": "stdout",
          "output_type": "stream",
          "text": [
            "200\n",
            "{\"task_id\":\"sDO9iZEBQrK436tdOMkK\",\"status\":\"CREATED\",\"model_id\":\"sTO9iZEBQrK436tdP8lc\"}\n"
          ]
        }
      ],
      "source": [
        "# Register and deploy a model\n",
        "url = f\"{domain}/_plugins/_ml/models/_register?deploy=true\"\n",
        "payload = {\n",
        "    \"name\": \"Bedrock Claude V2 model\",\n",
        "    \"function_name\": \"remote\",\n",
        "    \"model_group_id\": generation_model_group_id,\n",
        "    \"description\": \"test model\",\n",
        "    \"connector_id\": connector_id\n",
        "}\n",
        "response = requests.post(url, json=payload,auth=awsauth)\n",
        "print(response.status_code)\n",
        "print(response.text)\n",
        "if response.status_code == 200:\n",
        "    task_id = response.json()['task_id']\n"
      ]
    },
    {
      "cell_type": "markdown",
      "source": [
        "**Check the status of deployment**"
      ],
      "metadata": {
        "id": "haWEK6HZdtgF"
      },
      "id": "haWEK6HZdtgF"
    },
    {
      "cell_type": "code",
      "execution_count": null,
      "id": "419554fc-290b-4b4d-ae5d-58b87b02e362",
      "metadata": {
        "tags": [],
        "id": "419554fc-290b-4b4d-ae5d-58b87b02e362",
        "outputId": "002ac13f-edd2-4363-a7d4-6b8b385b198c"
      },
      "outputs": [
        {
          "name": "stdout",
          "output_type": "stream",
          "text": [
            "200\n",
            "{\"model_id\":\"sTO9iZEBQrK436tdP8lc\",\"task_type\":\"REGISTER_MODEL\",\"function_name\":\"REMOTE\",\"state\":\"COMPLETED\",\"worker_node\":[\"xdYV0RL3TzOYEGKpb6EZdg\"],\"create_time\":1724592764687,\"last_update_time\":1724592767059,\"is_async\":false}\n"
          ]
        }
      ],
      "source": [
        "# Get task status\n",
        "url = f\"{domain}/_plugins/_ml/tasks/{task_id}\"\n",
        "while True:\n",
        "    response = requests.get(url,auth=awsauth)\n",
        "    print(response.status_code)\n",
        "    print(response.text)\n",
        "    if response.status_code == 200 and response.json()['state'] == 'COMPLETED':\n",
        "        generation_model_id = response.json()['model_id']\n",
        "        break\n",
        "    time.sleep(2)"
      ]
    },
    {
      "cell_type": "markdown",
      "source": [
        "**Prediction using deployed model**"
      ],
      "metadata": {
        "id": "iG4Xh0Hrd2CW"
      },
      "id": "iG4Xh0Hrd2CW"
    },
    {
      "cell_type": "code",
      "execution_count": null,
      "id": "4398c437-5f5c-44dd-a434-f81898db7c16",
      "metadata": {
        "tags": [],
        "id": "4398c437-5f5c-44dd-a434-f81898db7c16",
        "outputId": "8cfc30ad-0685-4f46-c9c9-cbb490530266"
      },
      "outputs": [
        {
          "name": "stdout",
          "output_type": "stream",
          "text": [
            "200\n",
            "{\"inference_results\":[{\"output\":[{\"name\":\"response\",\"dataAsMap\":{\"response\":\" Hello! My name is Claude.\"}}],\"status_code\":200}]}\n"
          ]
        }
      ],
      "source": [
        "# Predict using a model\n",
        "url = f\"{domain}/_plugins/_ml/models/{generation_model_id}/_predict\"\n",
        "payload = {\n",
        "    \"parameters\": {\n",
        "        \"prompt\": \"\\n\\nHuman:hello\\n\\nAssistant:\"\n",
        "    }\n",
        "}\n",
        "response = requests.post(url, json=payload,auth=awsauth)\n",
        "print(response.status_code)\n",
        "print(response.text)"
      ]
    },
    {
      "cell_type": "markdown",
      "source": [
        "**Deploy a RAG agent**"
      ],
      "metadata": {
        "id": "yxQFh0N9eAbD"
      },
      "id": "yxQFh0N9eAbD"
    },
    {
      "cell_type": "code",
      "execution_count": null,
      "id": "34a03e85-ec04-4f92-83d3-34ee3c3875a7",
      "metadata": {
        "tags": [],
        "id": "34a03e85-ec04-4f92-83d3-34ee3c3875a7",
        "outputId": "58820096-a79b-4a0d-d75f-460cff44cb59"
      },
      "outputs": [
        {
          "name": "stdout",
          "output_type": "stream",
          "text": [
            "200\n",
            "{\"agent_id\":\"szPAiZEBQrK436tdWcmL\"}\n"
          ]
        }
      ],
      "source": [
        "# Register an agent\n",
        "url = f\"{domain}/_plugins/_ml/agents/_register\"\n",
        "payload = {\n",
        "    \"name\": \"Test_Agent_For_RAG\",\n",
        "    \"type\": \"flow\",\n",
        "    \"description\": \"this is a test agent\",\n",
        "    \"tools\": [\n",
        "        {\n",
        "            \"type\": \"VectorDBTool\",\n",
        "            \"parameters\": {\n",
        "                \"model_id\": embedding_model_id,\n",
        "                \"index\": \"my_test_data\",\n",
        "                \"embedding_field\": \"embedding\",\n",
        "                \"source_field\": [\"text\"],\n",
        "                \"input\": \"${parameters.question}\"\n",
        "            }\n",
        "        },\n",
        "        {\n",
        "            \"type\": \"MLModelTool\",\n",
        "            \"description\": \"A general tool to answer any question\",\n",
        "            \"parameters\": {\n",
        "                \"model_id\": generation_model_id,\n",
        "                \"prompt\": \"\\n\\nHuman:You are a professional data analyst. You will always answer a question based on the given context first. If the answer is not directly shown in the context, you will analyze the data and find the answer. If you don't know the answer, just say you don't know. \\n\\n Context:\\n${parameters.VectorDBTool.output}\\n\\nHuman:${parameters.question}\\n\\nAssistant:\"\n",
        "            }\n",
        "        }\n",
        "    ]\n",
        "}\n",
        "response = requests.post(url, json=payload,auth=awsauth)\n",
        "print(response.status_code)\n",
        "print(response.text)\n",
        "if response.status_code == 200:\n",
        "    agent_id = response.json()['agent_id']"
      ]
    },
    {
      "cell_type": "markdown",
      "source": [
        "**Check the status of deployment**"
      ],
      "metadata": {
        "id": "CbrGdeNzeJyx"
      },
      "id": "CbrGdeNzeJyx"
    },
    {
      "cell_type": "code",
      "execution_count": null,
      "id": "359e5857-c71e-4c7a-8b4d-9dd7eab57171",
      "metadata": {
        "tags": [],
        "id": "359e5857-c71e-4c7a-8b4d-9dd7eab57171",
        "outputId": "f90f0ad1-b60e-4599-b471-04363892bba1"
      },
      "outputs": [
        {
          "name": "stdout",
          "output_type": "stream",
          "text": [
            "200\n",
            "{\"name\":\"Test_Agent_For_RAG\",\"type\":\"flow\",\"description\":\"this is a test agent\",\"tools\":[{\"type\":\"VectorDBTool\",\"parameters\":{\"input\":\"${parameters.question}\",\"source_field\":\"[\\\"text\\\"]\",\"embedding_field\":\"embedding\",\"index\":\"my_test_data\",\"model_id\":\"rTOliZEBQrK436td2cmL\"},\"include_output_in_agent_response\":false},{\"type\":\"MLModelTool\",\"description\":\"A general tool to answer any question\",\"parameters\":{\"model_id\":\"sTO9iZEBQrK436tdP8lc\",\"prompt\":\"\\n\\nHuman:You are a professional data analyst. You will always answer a question based on the given context first. If the answer is not directly shown in the context, you will analyze the data and find the answer. If you don't know the answer, just say you don't know. \\n\\n Context:\\n${parameters.VectorDBTool.output}\\n\\nHuman:${parameters.question}\\n\\nAssistant:\"},\"include_output_in_agent_response\":false}],\"created_time\":1724592969793,\"last_updated_time\":1724592969793,\"is_hidden\":false}\n"
          ]
        }
      ],
      "source": [
        "# Get agent status\n",
        "url = f\"{domain}/_plugins/_ml/agents/{agent_id}\"\n",
        "response = requests.get(url,auth=awsauth)\n",
        "print(response.status_code)\n",
        "print(response.text)"
      ]
    },
    {
      "cell_type": "markdown",
      "source": [
        "**Execute RAG agent**"
      ],
      "metadata": {
        "id": "rJjXq2O4eSty"
      },
      "id": "rJjXq2O4eSty"
    },
    {
      "cell_type": "code",
      "execution_count": null,
      "id": "ae9bb1f4-96a7-4869-90c6-b7ab010c3d07",
      "metadata": {
        "id": "ae9bb1f4-96a7-4869-90c6-b7ab010c3d07"
      },
      "outputs": [],
      "source": [
        "# Execute agent action\n",
        "url = f\"{domain}/_plugins/_ml/agents/{agent_id}/_execute\"\n",
        "payload = {\n",
        "    \"parameters\": {\n",
        "        \"question\": \"what's the population increase of Seattle from 2021 to 2023\"\n",
        "    }\n",
        "}\n",
        "response = requests.post(url, json=payload,auth=awsauth)\n",
        "print(response.status_code)\n",
        "print(response.text)"
      ]
    }
  ],
  "metadata": {
    "kernelspec": {
      "display_name": "conda_python3",
      "language": "python",
      "name": "conda_python3"
    },
    "language_info": {
      "codemirror_mode": {
        "name": "ipython",
        "version": 3
      },
      "file_extension": ".py",
      "mimetype": "text/x-python",
      "name": "python",
      "nbconvert_exporter": "python",
      "pygments_lexer": "ipython3",
      "version": "3.10.14"
    },
    "colab": {
      "provenance": []
    }
  },
  "nbformat": 4,
  "nbformat_minor": 5
}
